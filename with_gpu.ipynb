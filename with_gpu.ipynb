{
 "cells": [
  {
   "cell_type": "markdown",
   "metadata": {},
   "source": [
    "## Step 0. configurations"
   ]
  },
  {
   "cell_type": "code",
   "execution_count": 14,
   "metadata": {},
   "outputs": [],
   "source": [
    "import warnings\n",
    "warnings.filterwarnings(\"ignore\")"
   ]
  },
  {
   "cell_type": "markdown",
   "metadata": {},
   "source": [
    "## Step 1. importing data and libraries"
   ]
  },
  {
   "cell_type": "code",
   "execution_count": 15,
   "metadata": {},
   "outputs": [],
   "source": [
    "# DataFrame related\n",
    "import pandas as pd\n",
    "import numpy as np\n",
    "\n",
    "# Plotting\n",
    "import matplotlib.pyplot as plt\n",
    "import seaborn as sns\n",
    "sns.set(style=\"whitegrid\")\n",
    "\n",
    "## Data\n",
    "df = pd.read_csv(\"./data/train.csv\")\n",
    "test = pd.read_csv(\"./data/test.csv\")"
   ]
  },
  {
   "cell_type": "markdown",
   "metadata": {},
   "source": [
    "## Step 2. exploring the data"
   ]
  },
  {
   "cell_type": "code",
   "execution_count": 16,
   "metadata": {},
   "outputs": [
    {
     "data": {
      "text/html": [
       "<div>\n",
       "<style scoped>\n",
       "    .dataframe tbody tr th:only-of-type {\n",
       "        vertical-align: middle;\n",
       "    }\n",
       "\n",
       "    .dataframe tbody tr th {\n",
       "        vertical-align: top;\n",
       "    }\n",
       "\n",
       "    .dataframe thead th {\n",
       "        text-align: right;\n",
       "    }\n",
       "</style>\n",
       "<table border=\"1\" class=\"dataframe\">\n",
       "  <thead>\n",
       "    <tr style=\"text-align: right;\">\n",
       "      <th></th>\n",
       "      <th>PassengerId</th>\n",
       "      <th>Survived</th>\n",
       "      <th>Pclass</th>\n",
       "      <th>Name</th>\n",
       "      <th>Sex</th>\n",
       "      <th>Age</th>\n",
       "      <th>SibSp</th>\n",
       "      <th>Parch</th>\n",
       "      <th>Ticket</th>\n",
       "      <th>Fare</th>\n",
       "      <th>Cabin</th>\n",
       "      <th>Embarked</th>\n",
       "    </tr>\n",
       "  </thead>\n",
       "  <tbody>\n",
       "    <tr>\n",
       "      <th>0</th>\n",
       "      <td>1</td>\n",
       "      <td>0</td>\n",
       "      <td>3</td>\n",
       "      <td>Braund, Mr. Owen Harris</td>\n",
       "      <td>male</td>\n",
       "      <td>22.0</td>\n",
       "      <td>1</td>\n",
       "      <td>0</td>\n",
       "      <td>A/5 21171</td>\n",
       "      <td>7.2500</td>\n",
       "      <td>NaN</td>\n",
       "      <td>S</td>\n",
       "    </tr>\n",
       "    <tr>\n",
       "      <th>1</th>\n",
       "      <td>2</td>\n",
       "      <td>1</td>\n",
       "      <td>1</td>\n",
       "      <td>Cumings, Mrs. John Bradley (Florence Briggs Th...</td>\n",
       "      <td>female</td>\n",
       "      <td>38.0</td>\n",
       "      <td>1</td>\n",
       "      <td>0</td>\n",
       "      <td>PC 17599</td>\n",
       "      <td>71.2833</td>\n",
       "      <td>C85</td>\n",
       "      <td>C</td>\n",
       "    </tr>\n",
       "    <tr>\n",
       "      <th>2</th>\n",
       "      <td>3</td>\n",
       "      <td>1</td>\n",
       "      <td>3</td>\n",
       "      <td>Heikkinen, Miss. Laina</td>\n",
       "      <td>female</td>\n",
       "      <td>26.0</td>\n",
       "      <td>0</td>\n",
       "      <td>0</td>\n",
       "      <td>STON/O2. 3101282</td>\n",
       "      <td>7.9250</td>\n",
       "      <td>NaN</td>\n",
       "      <td>S</td>\n",
       "    </tr>\n",
       "    <tr>\n",
       "      <th>3</th>\n",
       "      <td>4</td>\n",
       "      <td>1</td>\n",
       "      <td>1</td>\n",
       "      <td>Futrelle, Mrs. Jacques Heath (Lily May Peel)</td>\n",
       "      <td>female</td>\n",
       "      <td>35.0</td>\n",
       "      <td>1</td>\n",
       "      <td>0</td>\n",
       "      <td>113803</td>\n",
       "      <td>53.1000</td>\n",
       "      <td>C123</td>\n",
       "      <td>S</td>\n",
       "    </tr>\n",
       "    <tr>\n",
       "      <th>4</th>\n",
       "      <td>5</td>\n",
       "      <td>0</td>\n",
       "      <td>3</td>\n",
       "      <td>Allen, Mr. William Henry</td>\n",
       "      <td>male</td>\n",
       "      <td>35.0</td>\n",
       "      <td>0</td>\n",
       "      <td>0</td>\n",
       "      <td>373450</td>\n",
       "      <td>8.0500</td>\n",
       "      <td>NaN</td>\n",
       "      <td>S</td>\n",
       "    </tr>\n",
       "  </tbody>\n",
       "</table>\n",
       "</div>"
      ],
      "text/plain": [
       "   PassengerId  Survived  Pclass  \\\n",
       "0            1         0       3   \n",
       "1            2         1       1   \n",
       "2            3         1       3   \n",
       "3            4         1       1   \n",
       "4            5         0       3   \n",
       "\n",
       "                                                Name     Sex   Age  SibSp  \\\n",
       "0                            Braund, Mr. Owen Harris    male  22.0      1   \n",
       "1  Cumings, Mrs. John Bradley (Florence Briggs Th...  female  38.0      1   \n",
       "2                             Heikkinen, Miss. Laina  female  26.0      0   \n",
       "3       Futrelle, Mrs. Jacques Heath (Lily May Peel)  female  35.0      1   \n",
       "4                           Allen, Mr. William Henry    male  35.0      0   \n",
       "\n",
       "   Parch            Ticket     Fare Cabin Embarked  \n",
       "0      0         A/5 21171   7.2500   NaN        S  \n",
       "1      0          PC 17599  71.2833   C85        C  \n",
       "2      0  STON/O2. 3101282   7.9250   NaN        S  \n",
       "3      0            113803  53.1000  C123        S  \n",
       "4      0            373450   8.0500   NaN        S  "
      ]
     },
     "execution_count": 16,
     "metadata": {},
     "output_type": "execute_result"
    }
   ],
   "source": [
    "df.head()"
   ]
  },
  {
   "cell_type": "markdown",
   "metadata": {},
   "source": [
    "### Basic exploration"
   ]
  },
  {
   "cell_type": "code",
   "execution_count": 17,
   "metadata": {},
   "outputs": [
    {
     "data": {
      "text/plain": [
       "(891, 12)"
      ]
     },
     "execution_count": 17,
     "metadata": {},
     "output_type": "execute_result"
    }
   ],
   "source": [
    "df.shape"
   ]
  },
  {
   "cell_type": "code",
   "execution_count": 18,
   "metadata": {},
   "outputs": [
    {
     "data": {
      "text/plain": [
       "Index(['PassengerId', 'Survived', 'Pclass', 'Name', 'Sex', 'Age', 'SibSp',\n",
       "       'Parch', 'Ticket', 'Fare', 'Cabin', 'Embarked'],\n",
       "      dtype='object')"
      ]
     },
     "execution_count": 18,
     "metadata": {},
     "output_type": "execute_result"
    }
   ],
   "source": [
    "df.columns"
   ]
  },
  {
   "cell_type": "code",
   "execution_count": 19,
   "metadata": {},
   "outputs": [
    {
     "name": "stdout",
     "output_type": "stream",
     "text": [
      "<class 'pandas.core.frame.DataFrame'>\n",
      "RangeIndex: 891 entries, 0 to 890\n",
      "Data columns (total 12 columns):\n",
      " #   Column       Non-Null Count  Dtype  \n",
      "---  ------       --------------  -----  \n",
      " 0   PassengerId  891 non-null    int64  \n",
      " 1   Survived     891 non-null    int64  \n",
      " 2   Pclass       891 non-null    int64  \n",
      " 3   Name         891 non-null    object \n",
      " 4   Sex          891 non-null    object \n",
      " 5   Age          714 non-null    float64\n",
      " 6   SibSp        891 non-null    int64  \n",
      " 7   Parch        891 non-null    int64  \n",
      " 8   Ticket       891 non-null    object \n",
      " 9   Fare         891 non-null    float64\n",
      " 10  Cabin        204 non-null    object \n",
      " 11  Embarked     889 non-null    object \n",
      "dtypes: float64(2), int64(5), object(5)\n",
      "memory usage: 83.7+ KB\n"
     ]
    }
   ],
   "source": [
    "df.info()"
   ]
  },
  {
   "cell_type": "code",
   "execution_count": 20,
   "metadata": {},
   "outputs": [
    {
     "data": {
      "text/html": [
       "<div>\n",
       "<style scoped>\n",
       "    .dataframe tbody tr th:only-of-type {\n",
       "        vertical-align: middle;\n",
       "    }\n",
       "\n",
       "    .dataframe tbody tr th {\n",
       "        vertical-align: top;\n",
       "    }\n",
       "\n",
       "    .dataframe thead th {\n",
       "        text-align: right;\n",
       "    }\n",
       "</style>\n",
       "<table border=\"1\" class=\"dataframe\">\n",
       "  <thead>\n",
       "    <tr style=\"text-align: right;\">\n",
       "      <th></th>\n",
       "      <th>PassengerId</th>\n",
       "      <th>Survived</th>\n",
       "      <th>Pclass</th>\n",
       "      <th>Age</th>\n",
       "      <th>SibSp</th>\n",
       "      <th>Parch</th>\n",
       "      <th>Fare</th>\n",
       "    </tr>\n",
       "  </thead>\n",
       "  <tbody>\n",
       "    <tr>\n",
       "      <th>count</th>\n",
       "      <td>891.000000</td>\n",
       "      <td>891.000000</td>\n",
       "      <td>891.000000</td>\n",
       "      <td>714.000000</td>\n",
       "      <td>891.000000</td>\n",
       "      <td>891.000000</td>\n",
       "      <td>891.000000</td>\n",
       "    </tr>\n",
       "    <tr>\n",
       "      <th>mean</th>\n",
       "      <td>446.000000</td>\n",
       "      <td>0.383838</td>\n",
       "      <td>2.308642</td>\n",
       "      <td>29.699118</td>\n",
       "      <td>0.523008</td>\n",
       "      <td>0.381594</td>\n",
       "      <td>32.204208</td>\n",
       "    </tr>\n",
       "    <tr>\n",
       "      <th>std</th>\n",
       "      <td>257.353842</td>\n",
       "      <td>0.486592</td>\n",
       "      <td>0.836071</td>\n",
       "      <td>14.526497</td>\n",
       "      <td>1.102743</td>\n",
       "      <td>0.806057</td>\n",
       "      <td>49.693429</td>\n",
       "    </tr>\n",
       "    <tr>\n",
       "      <th>min</th>\n",
       "      <td>1.000000</td>\n",
       "      <td>0.000000</td>\n",
       "      <td>1.000000</td>\n",
       "      <td>0.420000</td>\n",
       "      <td>0.000000</td>\n",
       "      <td>0.000000</td>\n",
       "      <td>0.000000</td>\n",
       "    </tr>\n",
       "    <tr>\n",
       "      <th>25%</th>\n",
       "      <td>223.500000</td>\n",
       "      <td>0.000000</td>\n",
       "      <td>2.000000</td>\n",
       "      <td>20.125000</td>\n",
       "      <td>0.000000</td>\n",
       "      <td>0.000000</td>\n",
       "      <td>7.910400</td>\n",
       "    </tr>\n",
       "    <tr>\n",
       "      <th>50%</th>\n",
       "      <td>446.000000</td>\n",
       "      <td>0.000000</td>\n",
       "      <td>3.000000</td>\n",
       "      <td>28.000000</td>\n",
       "      <td>0.000000</td>\n",
       "      <td>0.000000</td>\n",
       "      <td>14.454200</td>\n",
       "    </tr>\n",
       "    <tr>\n",
       "      <th>75%</th>\n",
       "      <td>668.500000</td>\n",
       "      <td>1.000000</td>\n",
       "      <td>3.000000</td>\n",
       "      <td>38.000000</td>\n",
       "      <td>1.000000</td>\n",
       "      <td>0.000000</td>\n",
       "      <td>31.000000</td>\n",
       "    </tr>\n",
       "    <tr>\n",
       "      <th>max</th>\n",
       "      <td>891.000000</td>\n",
       "      <td>1.000000</td>\n",
       "      <td>3.000000</td>\n",
       "      <td>80.000000</td>\n",
       "      <td>8.000000</td>\n",
       "      <td>6.000000</td>\n",
       "      <td>512.329200</td>\n",
       "    </tr>\n",
       "  </tbody>\n",
       "</table>\n",
       "</div>"
      ],
      "text/plain": [
       "       PassengerId    Survived      Pclass         Age       SibSp  \\\n",
       "count   891.000000  891.000000  891.000000  714.000000  891.000000   \n",
       "mean    446.000000    0.383838    2.308642   29.699118    0.523008   \n",
       "std     257.353842    0.486592    0.836071   14.526497    1.102743   \n",
       "min       1.000000    0.000000    1.000000    0.420000    0.000000   \n",
       "25%     223.500000    0.000000    2.000000   20.125000    0.000000   \n",
       "50%     446.000000    0.000000    3.000000   28.000000    0.000000   \n",
       "75%     668.500000    1.000000    3.000000   38.000000    1.000000   \n",
       "max     891.000000    1.000000    3.000000   80.000000    8.000000   \n",
       "\n",
       "            Parch        Fare  \n",
       "count  891.000000  891.000000  \n",
       "mean     0.381594   32.204208  \n",
       "std      0.806057   49.693429  \n",
       "min      0.000000    0.000000  \n",
       "25%      0.000000    7.910400  \n",
       "50%      0.000000   14.454200  \n",
       "75%      0.000000   31.000000  \n",
       "max      6.000000  512.329200  "
      ]
     },
     "execution_count": 20,
     "metadata": {},
     "output_type": "execute_result"
    }
   ],
   "source": [
    "df.describe()"
   ]
  },
  {
   "cell_type": "markdown",
   "metadata": {},
   "source": [
    "### More in-depth analysis"
   ]
  },
  {
   "cell_type": "markdown",
   "metadata": {},
   "source": [
    "column types"
   ]
  },
  {
   "cell_type": "code",
   "execution_count": 21,
   "metadata": {},
   "outputs": [
    {
     "name": "stdout",
     "output_type": "stream",
     "text": [
      "categorical: Index(['Survived', 'Pclass', 'Sex', 'SibSp', 'Parch', 'Embarked'], dtype='object')\n",
      "numerical: Index(['Age', 'Fare'], dtype='object')\n"
     ]
    }
   ],
   "source": [
    "# converting columns' dtypes to 'object' if they are categorical\n",
    "df[\"Survived\"] = df[\"Survived\"].astype(\"object\")\n",
    "df[\"Pclass\"] = df[\"Pclass\"].astype(\"object\")\n",
    "df[\"SibSp\"] = df[\"SibSp\"].astype(\"object\")\n",
    "df[\"Parch\"] = df[\"Parch\"].astype(\"object\")\n",
    "\n",
    "# getting columns based on dtype, and dropping un-useful columns (for visualisation)\n",
    "categorical_columns = df.select_dtypes(include=\"object\").columns \\\n",
    "    .drop([\"Name\", \"Cabin\", \"Ticket\"])\n",
    "numerical_columns = df.select_dtypes(include=\"number\").columns \\\n",
    "    .drop(\"PassengerId\")\n",
    "\n",
    "# printing columns based on dtype\n",
    "print(f\"categorical: {categorical_columns}\")\n",
    "print(f\"numerical: {numerical_columns}\")"
   ]
  },
  {
   "cell_type": "markdown",
   "metadata": {},
   "source": [
    "## Step 3. visualising"
   ]
  },
  {
   "cell_type": "markdown",
   "metadata": {},
   "source": [
    "### Distributions of numerical columns"
   ]
  },
  {
   "cell_type": "code",
   "execution_count": 22,
   "metadata": {},
   "outputs": [
    {
     "data": {
      "image/png": "[encoded data removed]",
      "text/plain": [
       "<Figure size 1500x3000 with 2 Axes>"
      ]
     },
     "metadata": {},
     "output_type": "display_data"
    }
   ],
   "source": [
    "plt.figure(figsize=(15, 30))\n",
    "\n",
    "for i, column in enumerate(numerical_columns):\n",
    "    plt.subplot(len(df.columns)//2 + len(df.columns)%2, 2, i+1)\n",
    "    sns.histplot(df[column], kde=True)\n",
    "    plt.title(f\"Distribution of {column}\", fontweight=\"bold\")\n",
    "\n",
    "plt.tight_layout()\n",
    "plt.show()"
   ]
  },
  {
   "cell_type": "markdown",
   "metadata": {},
   "source": [
    "### Distributions of categorical columns"
   ]
  },
  {
   "cell_type": "code",
   "execution_count": 23,
   "metadata": {},
   "outputs": [
    {
     "data": {
      "image/png": "[encoded data removed]",
      "text/plain": [
       "<Figure size 1500x3000 with 6 Axes>"
      ]
     },
     "metadata": {},
     "output_type": "display_data"
    }
   ],
   "source": [
    "plt.figure(figsize=(15, 30))\n",
    "\n",
    "for i, column in enumerate(categorical_columns):\n",
    "    plt.subplot(len(df.columns)//2 + len(df.columns)%2, 2, i+1)\n",
    "    sns.countplot(data=df, x=df[column])\n",
    "    plt.title(f\"Distribution of {column}\", fontweight=\"bold\")\n",
    "\n",
    "plt.tight_layout()\n",
    "plt.show()"
   ]
  },
  {
   "cell_type": "markdown",
   "metadata": {},
   "source": [
    "## Step 4. pre-processing"
   ]
  },
  {
   "cell_type": "code",
   "execution_count": 24,
   "metadata": {},
   "outputs": [],
   "source": [
    "def clean(data):\n",
    "\n",
    "    # drop not useful columns\n",
    "    columns_to_delete = [\"PassengerId\", \"Ticket\", \"Name\"]\n",
    "    for col in columns_to_delete:\n",
    "        if col in data.columns:\n",
    "            data = data.drop(col, axis=1)\n",
    "    \n",
    "    # deal with missing data\n",
    "    data[\"Embarked\"].fillna(\"U\", inplace=True)\n",
    "    data[\"Age\"].fillna(data[\"Age\"].mean(), inplace=True)\n",
    "\n",
    "    return data\n",
    "\n",
    "# clean both DataFrames\n",
    "cdf = clean(df)\n",
    "ctest = clean(test)"
   ]
  },
  {
   "cell_type": "markdown",
   "metadata": {},
   "source": [
    "Setting `df` to the cleaned training data"
   ]
  },
  {
   "cell_type": "code",
   "execution_count": 25,
   "metadata": {},
   "outputs": [],
   "source": [
    "df = cdf\n",
    "test = ctest"
   ]
  },
  {
   "cell_type": "markdown",
   "metadata": {},
   "source": [
    "### missing values"
   ]
  },
  {
   "cell_type": "code",
   "execution_count": 26,
   "metadata": {},
   "outputs": [
    {
     "data": {
      "text/html": [
       "<div>\n",
       "<style scoped>\n",
       "    .dataframe tbody tr th:only-of-type {\n",
       "        vertical-align: middle;\n",
       "    }\n",
       "\n",
       "    .dataframe tbody tr th {\n",
       "        vertical-align: top;\n",
       "    }\n",
       "\n",
       "    .dataframe thead th {\n",
       "        text-align: right;\n",
       "    }\n",
       "</style>\n",
       "<table border=\"1\" class=\"dataframe\">\n",
       "  <thead>\n",
       "    <tr style=\"text-align: right;\">\n",
       "      <th></th>\n",
       "      <th>feature</th>\n",
       "      <th>missing</th>\n",
       "    </tr>\n",
       "  </thead>\n",
       "  <tbody>\n",
       "    <tr>\n",
       "      <th>7</th>\n",
       "      <td>Cabin</td>\n",
       "      <td>687</td>\n",
       "    </tr>\n",
       "    <tr>\n",
       "      <th>0</th>\n",
       "      <td>Survived</td>\n",
       "      <td>0</td>\n",
       "    </tr>\n",
       "    <tr>\n",
       "      <th>1</th>\n",
       "      <td>Pclass</td>\n",
       "      <td>0</td>\n",
       "    </tr>\n",
       "    <tr>\n",
       "      <th>2</th>\n",
       "      <td>Sex</td>\n",
       "      <td>0</td>\n",
       "    </tr>\n",
       "    <tr>\n",
       "      <th>3</th>\n",
       "      <td>Age</td>\n",
       "      <td>0</td>\n",
       "    </tr>\n",
       "    <tr>\n",
       "      <th>4</th>\n",
       "      <td>SibSp</td>\n",
       "      <td>0</td>\n",
       "    </tr>\n",
       "    <tr>\n",
       "      <th>5</th>\n",
       "      <td>Parch</td>\n",
       "      <td>0</td>\n",
       "    </tr>\n",
       "    <tr>\n",
       "      <th>6</th>\n",
       "      <td>Fare</td>\n",
       "      <td>0</td>\n",
       "    </tr>\n",
       "    <tr>\n",
       "      <th>8</th>\n",
       "      <td>Embarked</td>\n",
       "      <td>0</td>\n",
       "    </tr>\n",
       "  </tbody>\n",
       "</table>\n",
       "</div>"
      ],
      "text/plain": [
       "    feature  missing\n",
       "7     Cabin      687\n",
       "0  Survived        0\n",
       "1    Pclass        0\n",
       "2       Sex        0\n",
       "3       Age        0\n",
       "4     SibSp        0\n",
       "5     Parch        0\n",
       "6      Fare        0\n",
       "8  Embarked        0"
      ]
     },
     "execution_count": 26,
     "metadata": {},
     "output_type": "execute_result"
    }
   ],
   "source": [
    "missing_values = df.isna().sum()\n",
    "\n",
    "pd.DataFrame({\"feature\":missing_values.index, \"missing\":missing_values.values}) \\\n",
    "    .reset_index(drop=True) \\\n",
    "    .sort_values(by=\"missing\", ascending=False)"
   ]
  },
  {
   "cell_type": "markdown",
   "metadata": {},
   "source": [
    "**0** missing values because we addressed them in the `clean()` function\n",
    "\n",
    "except for `Cabin`, but that is dealt with in the next section"
   ]
  },
  {
   "cell_type": "markdown",
   "metadata": {},
   "source": [
    "## Step 5. Feature Engineering"
   ]
  },
  {
   "cell_type": "code",
   "execution_count": 27,
   "metadata": {},
   "outputs": [
    {
     "data": {
      "text/html": [
       "<div>\n",
       "<style scoped>\n",
       "    .dataframe tbody tr th:only-of-type {\n",
       "        vertical-align: middle;\n",
       "    }\n",
       "\n",
       "    .dataframe tbody tr th {\n",
       "        vertical-align: top;\n",
       "    }\n",
       "\n",
       "    .dataframe thead th {\n",
       "        text-align: right;\n",
       "    }\n",
       "</style>\n",
       "<table border=\"1\" class=\"dataframe\">\n",
       "  <thead>\n",
       "    <tr style=\"text-align: right;\">\n",
       "      <th></th>\n",
       "      <th>Survived</th>\n",
       "      <th>Pclass</th>\n",
       "      <th>Sex</th>\n",
       "      <th>Age</th>\n",
       "      <th>SibSp</th>\n",
       "      <th>Parch</th>\n",
       "      <th>Fare</th>\n",
       "      <th>Cabin</th>\n",
       "      <th>Embarked</th>\n",
       "    </tr>\n",
       "  </thead>\n",
       "  <tbody>\n",
       "    <tr>\n",
       "      <th>0</th>\n",
       "      <td>0</td>\n",
       "      <td>3</td>\n",
       "      <td>male</td>\n",
       "      <td>22.0</td>\n",
       "      <td>1</td>\n",
       "      <td>0</td>\n",
       "      <td>7.25</td>\n",
       "      <td>NaN</td>\n",
       "      <td>S</td>\n",
       "    </tr>\n",
       "  </tbody>\n",
       "</table>\n",
       "</div>"
      ],
      "text/plain": [
       "  Survived Pclass   Sex   Age SibSp Parch  Fare Cabin Embarked\n",
       "0        0      3  male  22.0     1     0  7.25   NaN        S"
      ]
     },
     "execution_count": 27,
     "metadata": {},
     "output_type": "execute_result"
    }
   ],
   "source": [
    "df.head(1)"
   ]
  },
  {
   "cell_type": "code",
   "execution_count": 28,
   "metadata": {},
   "outputs": [],
   "source": [
    "import sys\n",
    "sys.path.append(\"./util/\")\n",
    "\n",
    "from feature_engineering import feature_engineer"
   ]
  },
  {
   "cell_type": "code",
   "execution_count": 29,
   "metadata": {},
   "outputs": [],
   "source": [
    "# add new columns to both DataFrames\n",
    "FE_df = feature_engineer(df)\n",
    "FE_test = feature_engineer(test)"
   ]
  },
  {
   "cell_type": "markdown",
   "metadata": {},
   "source": [
    "Setting `df` to the feature-engineered training data"
   ]
  },
  {
   "cell_type": "code",
   "execution_count": 30,
   "metadata": {},
   "outputs": [],
   "source": [
    "df = FE_df\n",
    "test = FE_test"
   ]
  },
  {
   "cell_type": "code",
   "execution_count": 31,
   "metadata": {},
   "outputs": [
    {
     "data": {
      "text/html": [
       "<div>\n",
       "<style scoped>\n",
       "    .dataframe tbody tr th:only-of-type {\n",
       "        vertical-align: middle;\n",
       "    }\n",
       "\n",
       "    .dataframe tbody tr th {\n",
       "        vertical-align: top;\n",
       "    }\n",
       "\n",
       "    .dataframe thead th {\n",
       "        text-align: right;\n",
       "    }\n",
       "</style>\n",
       "<table border=\"1\" class=\"dataframe\">\n",
       "  <thead>\n",
       "    <tr style=\"text-align: right;\">\n",
       "      <th></th>\n",
       "      <th>Survived</th>\n",
       "      <th>Pclass</th>\n",
       "      <th>Age</th>\n",
       "      <th>SibSp</th>\n",
       "      <th>Parch</th>\n",
       "      <th>Fare</th>\n",
       "      <th>FamilySize</th>\n",
       "      <th>IsAlone</th>\n",
       "      <th>Cabins_booked</th>\n",
       "      <th>Embarked_in_Cherbourg</th>\n",
       "      <th>...</th>\n",
       "      <th>Age_Group_Child</th>\n",
       "      <th>Age_Group_Young Adult</th>\n",
       "      <th>Age_Group_Adult</th>\n",
       "      <th>Age_Group_Senior</th>\n",
       "      <th>Fare_Group_Low</th>\n",
       "      <th>Fare_Group_Mediun</th>\n",
       "      <th>Fare_Group_High</th>\n",
       "      <th>Fare_Group_Very High</th>\n",
       "      <th>Age_Class</th>\n",
       "      <th>Fare_per_person</th>\n",
       "    </tr>\n",
       "  </thead>\n",
       "  <tbody>\n",
       "    <tr>\n",
       "      <th>0</th>\n",
       "      <td>0</td>\n",
       "      <td>3</td>\n",
       "      <td>22.0</td>\n",
       "      <td>1</td>\n",
       "      <td>0</td>\n",
       "      <td>7.2500</td>\n",
       "      <td>2</td>\n",
       "      <td>0</td>\n",
       "      <td>0</td>\n",
       "      <td>0</td>\n",
       "      <td>...</td>\n",
       "      <td>0</td>\n",
       "      <td>1</td>\n",
       "      <td>0</td>\n",
       "      <td>0</td>\n",
       "      <td>1</td>\n",
       "      <td>0</td>\n",
       "      <td>0</td>\n",
       "      <td>0</td>\n",
       "      <td>66.0</td>\n",
       "      <td>3.625</td>\n",
       "    </tr>\n",
       "    <tr>\n",
       "      <th>1</th>\n",
       "      <td>1</td>\n",
       "      <td>1</td>\n",
       "      <td>38.0</td>\n",
       "      <td>1</td>\n",
       "      <td>0</td>\n",
       "      <td>71.2833</td>\n",
       "      <td>2</td>\n",
       "      <td>0</td>\n",
       "      <td>1</td>\n",
       "      <td>1</td>\n",
       "      <td>...</td>\n",
       "      <td>0</td>\n",
       "      <td>0</td>\n",
       "      <td>1</td>\n",
       "      <td>0</td>\n",
       "      <td>0</td>\n",
       "      <td>0</td>\n",
       "      <td>1</td>\n",
       "      <td>0</td>\n",
       "      <td>38.0</td>\n",
       "      <td>35.64165</td>\n",
       "    </tr>\n",
       "    <tr>\n",
       "      <th>2</th>\n",
       "      <td>1</td>\n",
       "      <td>3</td>\n",
       "      <td>26.0</td>\n",
       "      <td>0</td>\n",
       "      <td>0</td>\n",
       "      <td>7.9250</td>\n",
       "      <td>1</td>\n",
       "      <td>1</td>\n",
       "      <td>0</td>\n",
       "      <td>0</td>\n",
       "      <td>...</td>\n",
       "      <td>0</td>\n",
       "      <td>1</td>\n",
       "      <td>0</td>\n",
       "      <td>0</td>\n",
       "      <td>1</td>\n",
       "      <td>0</td>\n",
       "      <td>0</td>\n",
       "      <td>0</td>\n",
       "      <td>78.0</td>\n",
       "      <td>7.925</td>\n",
       "    </tr>\n",
       "    <tr>\n",
       "      <th>3</th>\n",
       "      <td>1</td>\n",
       "      <td>1</td>\n",
       "      <td>35.0</td>\n",
       "      <td>1</td>\n",
       "      <td>0</td>\n",
       "      <td>53.1000</td>\n",
       "      <td>2</td>\n",
       "      <td>0</td>\n",
       "      <td>1</td>\n",
       "      <td>0</td>\n",
       "      <td>...</td>\n",
       "      <td>0</td>\n",
       "      <td>0</td>\n",
       "      <td>1</td>\n",
       "      <td>0</td>\n",
       "      <td>0</td>\n",
       "      <td>0</td>\n",
       "      <td>1</td>\n",
       "      <td>0</td>\n",
       "      <td>35.0</td>\n",
       "      <td>26.55</td>\n",
       "    </tr>\n",
       "    <tr>\n",
       "      <th>4</th>\n",
       "      <td>0</td>\n",
       "      <td>3</td>\n",
       "      <td>35.0</td>\n",
       "      <td>0</td>\n",
       "      <td>0</td>\n",
       "      <td>8.0500</td>\n",
       "      <td>1</td>\n",
       "      <td>1</td>\n",
       "      <td>0</td>\n",
       "      <td>0</td>\n",
       "      <td>...</td>\n",
       "      <td>0</td>\n",
       "      <td>0</td>\n",
       "      <td>1</td>\n",
       "      <td>0</td>\n",
       "      <td>1</td>\n",
       "      <td>0</td>\n",
       "      <td>0</td>\n",
       "      <td>0</td>\n",
       "      <td>105.0</td>\n",
       "      <td>8.05</td>\n",
       "    </tr>\n",
       "  </tbody>\n",
       "</table>\n",
       "<p>5 rows × 25 columns</p>\n",
       "</div>"
      ],
      "text/plain": [
       "  Survived Pclass   Age SibSp Parch     Fare FamilySize  IsAlone  \\\n",
       "0        0      3  22.0     1     0   7.2500          2        0   \n",
       "1        1      1  38.0     1     0  71.2833          2        0   \n",
       "2        1      3  26.0     0     0   7.9250          1        1   \n",
       "3        1      1  35.0     1     0  53.1000          2        0   \n",
       "4        0      3  35.0     0     0   8.0500          1        1   \n",
       "\n",
       "   Cabins_booked  Embarked_in_Cherbourg  ...  Age_Group_Child  \\\n",
       "0              0                      0  ...                0   \n",
       "1              1                      1  ...                0   \n",
       "2              0                      0  ...                0   \n",
       "3              1                      0  ...                0   \n",
       "4              0                      0  ...                0   \n",
       "\n",
       "   Age_Group_Young Adult  Age_Group_Adult  Age_Group_Senior  Fare_Group_Low  \\\n",
       "0                      1                0                 0               1   \n",
       "1                      0                1                 0               0   \n",
       "2                      1                0                 0               1   \n",
       "3                      0                1                 0               0   \n",
       "4                      0                1                 0               1   \n",
       "\n",
       "   Fare_Group_Mediun  Fare_Group_High  Fare_Group_Very High  Age_Class  \\\n",
       "0                  0                0                     0       66.0   \n",
       "1                  0                1                     0       38.0   \n",
       "2                  0                0                     0       78.0   \n",
       "3                  0                1                     0       35.0   \n",
       "4                  0                0                     0      105.0   \n",
       "\n",
       "   Fare_per_person  \n",
       "0            3.625  \n",
       "1         35.64165  \n",
       "2            7.925  \n",
       "3            26.55  \n",
       "4             8.05  \n",
       "\n",
       "[5 rows x 25 columns]"
      ]
     },
     "execution_count": 31,
     "metadata": {},
     "output_type": "execute_result"
    }
   ],
   "source": [
    "df.head()"
   ]
  },
  {
   "cell_type": "markdown",
   "metadata": {},
   "source": [
    "## Step 6. modelling"
   ]
  },
  {
   "cell_type": "markdown",
   "metadata": {},
   "source": [
    "The goal for this dataset is to create a classification model that can predict the column `Survived`"
   ]
  },
  {
   "cell_type": "markdown",
   "metadata": {},
   "source": [
    "### Import modelling libraries"
   ]
  },
  {
   "cell_type": "code",
   "execution_count": 32,
   "metadata": {},
   "outputs": [
    {
     "name": "stderr",
     "output_type": "stream",
     "text": [
      "2024-09-18 21:39:41.537166: E external/local_xla/xla/stream_executor/cuda/cuda_fft.cc:485] Unable to register cuFFT factory: Attempting to register factory for plugin cuFFT when one has already been registered\n",
      "2024-09-18 21:39:41.546293: E external/local_xla/xla/stream_executor/cuda/cuda_dnn.cc:8454] Unable to register cuDNN factory: Attempting to register factory for plugin cuDNN when one has already been registered\n",
      "2024-09-18 21:39:41.548819: E external/local_xla/xla/stream_executor/cuda/cuda_blas.cc:1452] Unable to register cuBLAS factory: Attempting to register factory for plugin cuBLAS when one has already been registered\n",
      "2024-09-18 21:39:41.556617: I tensorflow/core/platform/cpu_feature_guard.cc:210] This TensorFlow binary is optimized to use available CPU instructions in performance-critical operations.\n",
      "To enable the following instructions: AVX2 FMA, in other operations, rebuild TensorFlow with the appropriate compiler flags.\n",
      "2024-09-18 21:39:42.720610: W tensorflow/compiler/tf2tensorrt/utils/py_utils.cc:38] TF-TRT Warning: Could not find TensorRT\n"
     ]
    }
   ],
   "source": [
    "from sklearn.model_selection import train_test_split\n",
    "from sklearn.preprocessing import MinMaxScaler\n",
    "from sklearn.preprocessing import LabelEncoder\n",
    "\n",
    "# TensorFlow and Keras imports\n",
    "import tensorflow as tf\n",
    "from tensorflow.keras.layers import BatchNormalization\n",
    "from tensorflow.keras.models import Sequential\n",
    "from tensorflow.keras.layers import Activation\n",
    "from tensorflow.keras.layers import Dense, Dropout\n",
    "from tensorflow.python.keras.callbacks import EarlyStopping\n",
    "\n",
    "    # Optimizers\n",
    "from tensorflow.keras.optimizers import Adam\n",
    "\n",
    "    # Regularizers\n",
    "from keras.regularizers import l2"
   ]
  },
  {
   "cell_type": "markdown",
   "metadata": {},
   "source": [
    "### Preparing the data"
   ]
  },
  {
   "cell_type": "code",
   "execution_count": 33,
   "metadata": {},
   "outputs": [
    {
     "data": {
      "text/html": [
       "<div>\n",
       "<style scoped>\n",
       "    .dataframe tbody tr th:only-of-type {\n",
       "        vertical-align: middle;\n",
       "    }\n",
       "\n",
       "    .dataframe tbody tr th {\n",
       "        vertical-align: top;\n",
       "    }\n",
       "\n",
       "    .dataframe thead th {\n",
       "        text-align: right;\n",
       "    }\n",
       "</style>\n",
       "<table border=\"1\" class=\"dataframe\">\n",
       "  <thead>\n",
       "    <tr style=\"text-align: right;\">\n",
       "      <th></th>\n",
       "      <th>Survived</th>\n",
       "      <th>Pclass</th>\n",
       "      <th>Age</th>\n",
       "      <th>SibSp</th>\n",
       "      <th>Parch</th>\n",
       "      <th>Fare</th>\n",
       "      <th>FamilySize</th>\n",
       "      <th>IsAlone</th>\n",
       "      <th>Cabins_booked</th>\n",
       "      <th>Embarked_in_Cherbourg</th>\n",
       "      <th>...</th>\n",
       "      <th>Age_Group_Child</th>\n",
       "      <th>Age_Group_Young Adult</th>\n",
       "      <th>Age_Group_Adult</th>\n",
       "      <th>Age_Group_Senior</th>\n",
       "      <th>Fare_Group_Low</th>\n",
       "      <th>Fare_Group_Mediun</th>\n",
       "      <th>Fare_Group_High</th>\n",
       "      <th>Fare_Group_Very High</th>\n",
       "      <th>Age_Class</th>\n",
       "      <th>Fare_per_person</th>\n",
       "    </tr>\n",
       "  </thead>\n",
       "  <tbody>\n",
       "    <tr>\n",
       "      <th>0</th>\n",
       "      <td>0</td>\n",
       "      <td>3</td>\n",
       "      <td>22.0</td>\n",
       "      <td>1</td>\n",
       "      <td>0</td>\n",
       "      <td>7.25</td>\n",
       "      <td>2</td>\n",
       "      <td>0</td>\n",
       "      <td>0</td>\n",
       "      <td>0</td>\n",
       "      <td>...</td>\n",
       "      <td>0</td>\n",
       "      <td>1</td>\n",
       "      <td>0</td>\n",
       "      <td>0</td>\n",
       "      <td>1</td>\n",
       "      <td>0</td>\n",
       "      <td>0</td>\n",
       "      <td>0</td>\n",
       "      <td>66.0</td>\n",
       "      <td>3.625</td>\n",
       "    </tr>\n",
       "  </tbody>\n",
       "</table>\n",
       "<p>1 rows × 25 columns</p>\n",
       "</div>"
      ],
      "text/plain": [
       "  Survived Pclass   Age SibSp Parch  Fare FamilySize  IsAlone  Cabins_booked  \\\n",
       "0        0      3  22.0     1     0  7.25          2        0              0   \n",
       "\n",
       "   Embarked_in_Cherbourg  ...  Age_Group_Child  Age_Group_Young Adult  \\\n",
       "0                      0  ...                0                      1   \n",
       "\n",
       "   Age_Group_Adult  Age_Group_Senior  Fare_Group_Low  Fare_Group_Mediun  \\\n",
       "0                0                 0               1                  0   \n",
       "\n",
       "   Fare_Group_High  Fare_Group_Very High  Age_Class  Fare_per_person  \n",
       "0                0                     0       66.0            3.625  \n",
       "\n",
       "[1 rows x 25 columns]"
      ]
     },
     "execution_count": 33,
     "metadata": {},
     "output_type": "execute_result"
    }
   ],
   "source": [
    "df.head(1)"
   ]
  },
  {
   "cell_type": "markdown",
   "metadata": {},
   "source": [
    "Making sure both DataFrames have the same number of columns"
   ]
  },
  {
   "cell_type": "code",
   "execution_count": 34,
   "metadata": {},
   "outputs": [
    {
     "name": "stdout",
     "output_type": "stream",
     "text": [
      "Embarked_in_Unknown\n"
     ]
    }
   ],
   "source": [
    "missing_cols_from_test_dataset = []\n",
    "\n",
    "for element in list(df.columns):\n",
    "    if element not in list(test.columns):\n",
    "        if not element == \"Survived\":       # should not be in test dataset anyway\n",
    "            print(element)\n",
    "            missing_cols_from_test_dataset.append(element)\n",
    "    \n",
    "for col in missing_cols_from_test_dataset:\n",
    "    test[col] = 0"
   ]
  },
  {
   "cell_type": "markdown",
   "metadata": {},
   "source": [
    "Label Encoding"
   ]
  },
  {
   "cell_type": "code",
   "execution_count": 35,
   "metadata": {},
   "outputs": [],
   "source": [
    "# `Survived` is already encoded"
   ]
  },
  {
   "cell_type": "markdown",
   "metadata": {},
   "source": [
    "Splitting the data"
   ]
  },
  {
   "cell_type": "code",
   "execution_count": 36,
   "metadata": {},
   "outputs": [],
   "source": [
    "X = df.drop(columns=[\"Survived\"], axis=1)\n",
    "y = df[\"Survived\"]"
   ]
  },
  {
   "cell_type": "markdown",
   "metadata": {},
   "source": [
    "train_test_split"
   ]
  },
  {
   "cell_type": "code",
   "execution_count": 37,
   "metadata": {},
   "outputs": [],
   "source": [
    "X_train, X_test, y_train, y_test = train_test_split(X, y, test_size=0.2, random_state=287)"
   ]
  },
  {
   "cell_type": "markdown",
   "metadata": {},
   "source": [
    "Scale the data"
   ]
  },
  {
   "cell_type": "code",
   "execution_count": 38,
   "metadata": {},
   "outputs": [],
   "source": [
    "scaler = MinMaxScaler()\n",
    "X_train_stand = scaler.fit_transform(X_train)\n",
    "X_test_stand = scaler.transform(X_test)"
   ]
  },
  {
   "cell_type": "code",
   "execution_count": 39,
   "metadata": {},
   "outputs": [],
   "source": [
    "from tensorflow.python.keras.utils.np_utils import to_categorical\n",
    "y_train_class = to_categorical(y_train)"
   ]
  },
  {
   "cell_type": "code",
   "execution_count": 40,
   "metadata": {},
   "outputs": [
    {
     "name": "stdout",
     "output_type": "stream",
     "text": [
      "(712, 24)\n",
      "(179, 24)\n",
      "(712, 24)\n",
      "(179, 24)\n",
      "(418, 24)\n"
     ]
    }
   ],
   "source": [
    "print(X_train.shape)\n",
    "print(X_test.shape)\n",
    "print(X_train_stand.shape)\n",
    "print(X_test_stand.shape)\n",
    "print(test.shape)"
   ]
  },
  {
   "cell_type": "markdown",
   "metadata": {},
   "source": [
    "### **Sequential() with `Dropout()` and `BatchNormalization()`**"
   ]
  },
  {
   "cell_type": "markdown",
   "metadata": {},
   "source": [
    "1. Architecture"
   ]
  },
  {
   "cell_type": "code",
   "execution_count": 41,
   "metadata": {},
   "outputs": [
    {
     "name": "stdout",
     "output_type": "stream",
     "text": [
      "24\n"
     ]
    },
    {
     "name": "stderr",
     "output_type": "stream",
     "text": [
      "WARNING: All log messages before absl::InitializeLog() is called are written to STDERR\n",
      "I0000 00:00:1726695583.674580    8579 cuda_executor.cc:1001] could not open file to read NUMA node: /sys/bus/pci/devices/0000:01:00.0/numa_node\n",
      "Your kernel may have been built without NUMA support.\n",
      "I0000 00:00:1726695583.711509    8579 cuda_executor.cc:1001] could not open file to read NUMA node: /sys/bus/pci/devices/0000:01:00.0/numa_node\n",
      "Your kernel may have been built without NUMA support.\n",
      "I0000 00:00:1726695583.712013    8579 cuda_executor.cc:1001] could not open file to read NUMA node: /sys/bus/pci/devices/0000:01:00.0/numa_node\n",
      "Your kernel may have been built without NUMA support.\n",
      "I0000 00:00:1726695583.714546    8579 cuda_executor.cc:1001] could not open file to read NUMA node: /sys/bus/pci/devices/0000:01:00.0/numa_node\n",
      "Your kernel may have been built without NUMA support.\n",
      "I0000 00:00:1726695583.714977    8579 cuda_executor.cc:1001] could not open file to read NUMA node: /sys/bus/pci/devices/0000:01:00.0/numa_node\n",
      "Your kernel may have been built without NUMA support.\n",
      "I0000 00:00:1726695583.715369    8579 cuda_executor.cc:1001] could not open file to read NUMA node: /sys/bus/pci/devices/0000:01:00.0/numa_node\n",
      "Your kernel may have been built without NUMA support.\n",
      "I0000 00:00:1726695583.934695    8579 cuda_executor.cc:1001] could not open file to read NUMA node: /sys/bus/pci/devices/0000:01:00.0/numa_node\n",
      "Your kernel may have been built without NUMA support.\n",
      "I0000 00:00:1726695583.935058    8579 cuda_executor.cc:1001] could not open file to read NUMA node: /sys/bus/pci/devices/0000:01:00.0/numa_node\n",
      "Your kernel may have been built without NUMA support.\n",
      "2024-09-18 21:39:43.935078: I tensorflow/core/common_runtime/gpu/gpu_device.cc:2112] Could not identify NUMA node of platform GPU id 0, defaulting to 0.  Your kernel may not have been built with NUMA support.\n",
      "I0000 00:00:1726695583.935376    8579 cuda_executor.cc:1001] could not open file to read NUMA node: /sys/bus/pci/devices/0000:01:00.0/numa_node\n",
      "Your kernel may have been built without NUMA support.\n",
      "2024-09-18 21:39:43.935892: I tensorflow/core/common_runtime/gpu/gpu_device.cc:2021] Created device /job:localhost/replica:0/task:0/device:GPU:0 with 3586 MB memory:  -> device: 0, name: NVIDIA GeForce RTX 3060 Laptop GPU, pci bus id: 0000:01:00.0, compute capability: 8.6\n"
     ]
    }
   ],
   "source": [
    "def get_model():\n",
    "\n",
    "    model = Sequential()\n",
    "    n_cols = X_train_stand.shape[1]\n",
    "\n",
    "    print(n_cols)\n",
    "\n",
    "    model.add(Dense(128, activation=\"relu\", kernel_regularizer=l2(0.001), input_shape=(n_cols,)))\n",
    "    model.add(BatchNormalization())\n",
    "    model.add(Dropout(0.3))\n",
    "\n",
    "    model.add(Dense(64, activation=\"relu\", kernel_regularizer=l2(0.001), input_shape=(n_cols,)))\n",
    "    model.add(BatchNormalization())\n",
    "    model.add(Dropout(0.3))\n",
    "\n",
    "    model.add(Dense(32, activation=\"relu\", kernel_regularizer=l2(0.001), input_shape=(n_cols,)))\n",
    "    model.add(BatchNormalization())\n",
    "    model.add(Dropout(0.3))\n",
    "\n",
    "    model.add(Dense(16, activation=\"relu\", kernel_regularizer=l2(0.001)))\n",
    "    model.add(BatchNormalization())\n",
    "    model.add(Dropout(0.3))\n",
    "\n",
    "    model.add(Dense(8, activation=\"relu\", kernel_regularizer=l2(0.001)))\n",
    "    model.add(BatchNormalization())\n",
    "    model.add(Dropout(0.3))\n",
    "\n",
    "    model.add(Dense(4, activation=\"relu\", kernel_regularizer=l2(0.001)))\n",
    "    model.add(BatchNormalization())\n",
    "    model.add(Dropout(0.3))\n",
    "\n",
    "    model.add(Dense(2, activation=\"softmax\"))\n",
    "\n",
    "    return model\n",
    "\n",
    "model_3 = get_model()"
   ]
  },
  {
   "cell_type": "markdown",
   "metadata": {},
   "source": [
    "2. Compile and Fit"
   ]
  },
  {
   "cell_type": "code",
   "execution_count": 42,
   "metadata": {},
   "outputs": [
    {
     "name": "stderr",
     "output_type": "stream",
     "text": [
      "WARNING: All log messages before absl::InitializeLog() is called are written to STDERR\n",
      "I0000 00:00:1726695588.972626   17245 service.cc:146] XLA service 0x7f3b7c005670 initialized for platform CUDA (this does not guarantee that XLA will be used). Devices:\n",
      "I0000 00:00:1726695588.972671   17245 service.cc:154]   StreamExecutor device (0): NVIDIA GeForce RTX 3060 Laptop GPU, Compute Capability 8.6\n",
      "2024-09-18 21:39:49.093105: I tensorflow/compiler/mlir/tensorflow/utils/dump_mlir_util.cc:268] disabling MLIR crash reproducer, set env var `MLIR_CRASH_REPRODUCER_DIRECTORY` to enable.\n",
      "2024-09-18 21:39:49.791701: I external/local_xla/xla/stream_executor/cuda/cuda_dnn.cc:531] Loaded cuDNN version 8907\n",
      "I0000 00:00:1726695593.857564   17245 device_compiler.h:188] Compiled cluster using XLA!  This line is logged at most once for the lifetime of the process.\n"
     ]
    },
    {
     "name": "stdout",
     "output_type": "stream",
     "text": [
      "Epoch 0, loss: 1.0840, accuracy: 0.5149, val_loss: 0.8919, val_accuracy: 0.6434\n",
      "Epoch 100, loss: 0.5854, accuracy: 0.8260, val_loss: 0.6110, val_accuracy: 0.7762\n",
      "Epoch 200, loss: 0.4503, accuracy: 0.8664, val_loss: 0.5738, val_accuracy: 0.8252\n",
      "Epoch 300, loss: 0.4192, accuracy: 0.8717, val_loss: 0.6062, val_accuracy: 0.8182\n",
      "Epoch 400, loss: 0.3765, accuracy: 0.8770, val_loss: 0.7165, val_accuracy: 0.8042\n",
      "Epoch 500, loss: 0.3437, accuracy: 0.8875, val_loss: 0.7967, val_accuracy: 0.7902\n",
      "Epoch 600, loss: 0.3508, accuracy: 0.8875, val_loss: 0.7762, val_accuracy: 0.8042\n",
      "Epoch 700, loss: 0.3500, accuracy: 0.8699, val_loss: 0.8754, val_accuracy: 0.7692\n",
      "Epoch 800, loss: 0.3326, accuracy: 0.8770, val_loss: 0.8878, val_accuracy: 0.7902\n",
      "Epoch 900, loss: 0.2942, accuracy: 0.9051, val_loss: 0.9256, val_accuracy: 0.8112\n",
      "Epoch 1000, loss: 0.2939, accuracy: 0.8928, val_loss: 0.9324, val_accuracy: 0.7972\n",
      "Epoch 1100, loss: 0.3348, accuracy: 0.8858, val_loss: 0.9449, val_accuracy: 0.7622\n",
      "Epoch 1200, loss: 0.3088, accuracy: 0.8893, val_loss: 0.9524, val_accuracy: 0.8112\n",
      "Epoch 1300, loss: 0.2937, accuracy: 0.8893, val_loss: 0.9244, val_accuracy: 0.7902\n",
      "Epoch 1400, loss: 0.3043, accuracy: 0.8875, val_loss: 0.9357, val_accuracy: 0.7972\n",
      "Epoch 1500, loss: 0.3060, accuracy: 0.8998, val_loss: 0.8945, val_accuracy: 0.7972\n",
      "Epoch 1600, loss: 0.3281, accuracy: 0.8946, val_loss: 0.9489, val_accuracy: 0.8042\n",
      "Epoch 1700, loss: 0.2960, accuracy: 0.8910, val_loss: 1.0080, val_accuracy: 0.7692\n",
      "Epoch 1800, loss: 0.3044, accuracy: 0.8981, val_loss: 1.0112, val_accuracy: 0.7972\n",
      "Epoch 1900, loss: 0.3124, accuracy: 0.8858, val_loss: 1.0746, val_accuracy: 0.7762\n",
      "Epoch 2000, loss: 0.3024, accuracy: 0.8928, val_loss: 1.0303, val_accuracy: 0.7692\n",
      "Epoch 2100, loss: 0.3073, accuracy: 0.8928, val_loss: 1.0434, val_accuracy: 0.7832\n",
      "Epoch 2200, loss: 0.2812, accuracy: 0.9069, val_loss: 1.0340, val_accuracy: 0.7692\n",
      "Epoch 2300, loss: 0.2795, accuracy: 0.8998, val_loss: 1.0265, val_accuracy: 0.7762\n",
      "Epoch 2400, loss: 0.2936, accuracy: 0.8893, val_loss: 1.0006, val_accuracy: 0.7762\n",
      "Epoch 2500, loss: 0.2896, accuracy: 0.8998, val_loss: 1.0585, val_accuracy: 0.7972\n",
      "Epoch 2600, loss: 0.3005, accuracy: 0.8946, val_loss: 0.9452, val_accuracy: 0.8042\n",
      "Epoch 2700, loss: 0.2789, accuracy: 0.8998, val_loss: 1.0718, val_accuracy: 0.7762\n",
      "Epoch 2800, loss: 0.3039, accuracy: 0.8946, val_loss: 1.1214, val_accuracy: 0.7972\n",
      "Epoch 2900, loss: 0.2736, accuracy: 0.8963, val_loss: 1.0139, val_accuracy: 0.7762\n",
      "Epoch 3000, loss: 0.2967, accuracy: 0.9033, val_loss: 1.0263, val_accuracy: 0.7692\n",
      "Epoch 3100, loss: 0.2767, accuracy: 0.9139, val_loss: 1.0630, val_accuracy: 0.8042\n",
      "Epoch 3200, loss: 0.2870, accuracy: 0.8946, val_loss: 1.2265, val_accuracy: 0.7762\n",
      "Epoch 3300, loss: 0.2879, accuracy: 0.8858, val_loss: 1.1344, val_accuracy: 0.7832\n",
      "Epoch 3400, loss: 0.3126, accuracy: 0.8770, val_loss: 1.1595, val_accuracy: 0.7832\n",
      "Epoch 3500, loss: 0.2874, accuracy: 0.8875, val_loss: 1.1329, val_accuracy: 0.7622\n",
      "Epoch 3600, loss: 0.2944, accuracy: 0.8963, val_loss: 1.1433, val_accuracy: 0.7902\n",
      "Epoch 3700, loss: 0.2787, accuracy: 0.9069, val_loss: 1.1344, val_accuracy: 0.7692\n",
      "Epoch 3800, loss: 0.2785, accuracy: 0.9104, val_loss: 1.1360, val_accuracy: 0.7692\n",
      "Epoch 3900, loss: 0.2889, accuracy: 0.8893, val_loss: 0.9429, val_accuracy: 0.7902\n",
      "Epoch 4000, loss: 0.2785, accuracy: 0.8928, val_loss: 1.1418, val_accuracy: 0.7762\n",
      "Epoch 4100, loss: 0.2692, accuracy: 0.9121, val_loss: 1.0509, val_accuracy: 0.7902\n",
      "Epoch 4200, loss: 0.2586, accuracy: 0.9069, val_loss: 1.0613, val_accuracy: 0.7762\n",
      "Epoch 4300, loss: 0.2788, accuracy: 0.8928, val_loss: 1.1105, val_accuracy: 0.7762\n",
      "Epoch 4400, loss: 0.2822, accuracy: 0.8981, val_loss: 1.2087, val_accuracy: 0.7762\n",
      "Epoch 4500, loss: 0.2673, accuracy: 0.9069, val_loss: 1.0916, val_accuracy: 0.7692\n",
      "Epoch 4600, loss: 0.2996, accuracy: 0.8963, val_loss: 1.0525, val_accuracy: 0.7832\n",
      "Epoch 4700, loss: 0.3057, accuracy: 0.8858, val_loss: 1.0612, val_accuracy: 0.7832\n",
      "Epoch 4800, loss: 0.2679, accuracy: 0.9121, val_loss: 1.0704, val_accuracy: 0.7972\n",
      "Epoch 4900, loss: 0.2762, accuracy: 0.9121, val_loss: 1.1552, val_accuracy: 0.7622\n",
      "Epoch 5000, loss: 0.2643, accuracy: 0.9069, val_loss: 1.2452, val_accuracy: 0.7902\n",
      "Epoch 5100, loss: 0.2877, accuracy: 0.9051, val_loss: 1.0204, val_accuracy: 0.8042\n",
      "Epoch 5200, loss: 0.2670, accuracy: 0.9104, val_loss: 1.0785, val_accuracy: 0.8042\n",
      "Epoch 5300, loss: 0.2631, accuracy: 0.9086, val_loss: 1.1041, val_accuracy: 0.7762\n",
      "Epoch 5400, loss: 0.3145, accuracy: 0.9033, val_loss: 1.1995, val_accuracy: 0.7762\n",
      "Epoch 5500, loss: 0.2693, accuracy: 0.8998, val_loss: 1.0971, val_accuracy: 0.7832\n",
      "Epoch 5600, loss: 0.2862, accuracy: 0.8893, val_loss: 1.1683, val_accuracy: 0.7832\n",
      "Epoch 5700, loss: 0.3134, accuracy: 0.9051, val_loss: 1.0391, val_accuracy: 0.7622\n",
      "Epoch 5800, loss: 0.3046, accuracy: 0.8910, val_loss: 1.0099, val_accuracy: 0.7972\n",
      "Epoch 5900, loss: 0.2867, accuracy: 0.9069, val_loss: 0.9537, val_accuracy: 0.7832\n",
      "Epoch 6000, loss: 0.2930, accuracy: 0.8998, val_loss: 1.0598, val_accuracy: 0.7832\n",
      "Epoch 6100, loss: 0.2843, accuracy: 0.8963, val_loss: 0.9974, val_accuracy: 0.7902\n",
      "Epoch 6200, loss: 0.2638, accuracy: 0.9016, val_loss: 1.1338, val_accuracy: 0.7902\n",
      "Epoch 6300, loss: 0.2695, accuracy: 0.9086, val_loss: 1.1058, val_accuracy: 0.7972\n",
      "Epoch 6400, loss: 0.2887, accuracy: 0.9033, val_loss: 1.0099, val_accuracy: 0.7762\n",
      "Epoch 6500, loss: 0.2984, accuracy: 0.9051, val_loss: 1.1066, val_accuracy: 0.7622\n",
      "Epoch 6600, loss: 0.2770, accuracy: 0.9051, val_loss: 1.0390, val_accuracy: 0.7692\n",
      "Epoch 6700, loss: 0.2758, accuracy: 0.9016, val_loss: 1.0422, val_accuracy: 0.7692\n",
      "Epoch 6800, loss: 0.2736, accuracy: 0.9121, val_loss: 1.1291, val_accuracy: 0.7762\n",
      "Epoch 6900, loss: 0.2873, accuracy: 0.8998, val_loss: 1.2532, val_accuracy: 0.7832\n",
      "Epoch 7000, loss: 0.2658, accuracy: 0.9104, val_loss: 1.1006, val_accuracy: 0.7832\n",
      "Epoch 7100, loss: 0.2806, accuracy: 0.8963, val_loss: 1.0882, val_accuracy: 0.7902\n",
      "Epoch 7200, loss: 0.2657, accuracy: 0.9104, val_loss: 1.0023, val_accuracy: 0.7972\n",
      "Epoch 7300, loss: 0.3049, accuracy: 0.8963, val_loss: 1.0451, val_accuracy: 0.7483\n",
      "Epoch 7400, loss: 0.2767, accuracy: 0.9104, val_loss: 0.9193, val_accuracy: 0.8112\n",
      "Epoch 7500, loss: 0.3091, accuracy: 0.8998, val_loss: 0.9661, val_accuracy: 0.7832\n",
      "Epoch 7600, loss: 0.2978, accuracy: 0.8910, val_loss: 0.9534, val_accuracy: 0.7972\n",
      "Epoch 7700, loss: 0.2836, accuracy: 0.9051, val_loss: 1.1076, val_accuracy: 0.8042\n",
      "Epoch 7800, loss: 0.2813, accuracy: 0.9104, val_loss: 1.0013, val_accuracy: 0.7902\n",
      "Epoch 7900, loss: 0.2756, accuracy: 0.9051, val_loss: 0.9975, val_accuracy: 0.7832\n",
      "Epoch 8000, loss: 0.3079, accuracy: 0.8981, val_loss: 1.0636, val_accuracy: 0.8042\n",
      "Epoch 8100, loss: 0.2931, accuracy: 0.9086, val_loss: 1.0029, val_accuracy: 0.7972\n",
      "Epoch 8200, loss: 0.2924, accuracy: 0.9016, val_loss: 1.0552, val_accuracy: 0.7972\n",
      "Epoch 8300, loss: 0.2728, accuracy: 0.9033, val_loss: 1.0790, val_accuracy: 0.7692\n",
      "Epoch 8400, loss: 0.2810, accuracy: 0.9139, val_loss: 1.0019, val_accuracy: 0.8042\n",
      "Epoch 8500, loss: 0.3065, accuracy: 0.8893, val_loss: 0.9420, val_accuracy: 0.7832\n",
      "Epoch 8600, loss: 0.2831, accuracy: 0.9104, val_loss: 1.0125, val_accuracy: 0.7762\n",
      "Epoch 8700, loss: 0.3037, accuracy: 0.8805, val_loss: 0.8468, val_accuracy: 0.7902\n",
      "Epoch 8800, loss: 0.2785, accuracy: 0.9104, val_loss: 1.0161, val_accuracy: 0.7832\n",
      "Epoch 8900, loss: 0.2962, accuracy: 0.8981, val_loss: 1.0304, val_accuracy: 0.7972\n",
      "Epoch 9000, loss: 0.2783, accuracy: 0.9051, val_loss: 1.0526, val_accuracy: 0.7832\n",
      "Epoch 9100, loss: 0.2954, accuracy: 0.8963, val_loss: 0.9521, val_accuracy: 0.7972\n",
      "Epoch 9200, loss: 0.2639, accuracy: 0.9016, val_loss: 0.8851, val_accuracy: 0.8112\n",
      "Epoch 9300, loss: 0.2718, accuracy: 0.9033, val_loss: 1.0034, val_accuracy: 0.7622\n",
      "Epoch 9400, loss: 0.2726, accuracy: 0.9069, val_loss: 0.9367, val_accuracy: 0.7622\n",
      "Epoch 9500, loss: 0.3123, accuracy: 0.8946, val_loss: 1.0458, val_accuracy: 0.7832\n",
      "Epoch 9600, loss: 0.3031, accuracy: 0.8928, val_loss: 1.0224, val_accuracy: 0.7902\n",
      "Epoch 9700, loss: 0.2948, accuracy: 0.8998, val_loss: 1.1352, val_accuracy: 0.7832\n",
      "Epoch 9800, loss: 0.2975, accuracy: 0.9121, val_loss: 1.0359, val_accuracy: 0.7902\n",
      "Epoch 9900, loss: 0.2830, accuracy: 0.8910, val_loss: 1.0609, val_accuracy: 0.7692\n"
     ]
    }
   ],
   "source": [
    "from tensorflow.keras.callbacks import Callback\n",
    "\n",
    "class EpochLogger(Callback):\n",
    "    def on_epoch_end(self, epoch, logs=None):\n",
    "        if epoch % 100 == 0:\n",
    "            print(f\"Epoch {epoch}, loss: {logs['loss']:.4f}, accuracy: {logs['accuracy']:.4f}, val_loss: {logs['val_loss']:.4f}, val_accuracy: {logs['val_accuracy']:.4f}\")\n",
    "\n",
    "\n",
    "\n",
    "# Define a custom optimizer with a different learning rate\n",
    "optimizer = Adam(learning_rate=0.001, clipnorm=1.0)\n",
    "model_3.compile(optimizer=optimizer, loss=\"binary_crossentropy\", metrics=[\"accuracy\"])\n",
    "\n",
    "# Early stopping callback\n",
    "early_stopping =  EarlyStopping(patience=10_000, monitor='val_loss', restore_best_weights=True)\n",
    "\n",
    "# Custom logging every 100 epochs\n",
    "epoch_logger = EpochLogger()\n",
    "\n",
    "\n",
    "fit_3 = model_3.fit(X_train_stand, y_train_class, \n",
    "        epochs=10_000, batch_size=64, validation_split=0.2,\n",
    "        callbacks=[early_stopping, epoch_logger],\n",
    "        verbose=0   # hides default training process logging\n",
    "    )"
   ]
  },
  {
   "cell_type": "markdown",
   "metadata": {},
   "source": [
    "`axhlines`"
   ]
  },
  {
   "cell_type": "code",
   "execution_count": 43,
   "metadata": {},
   "outputs": [],
   "source": [
    "axh_ml = 0.39\n",
    "axh_mvl = 0.47\n",
    "axh_ma = 0.87\n",
    "axh_mva = 0.81"
   ]
  },
  {
   "cell_type": "markdown",
   "metadata": {},
   "source": [
    "## Step 7: comparing all models"
   ]
  },
  {
   "cell_type": "code",
   "execution_count": 44,
   "metadata": {},
   "outputs": [
    {
     "data": {
      "text/plain": [
       "10000"
      ]
     },
     "execution_count": 44,
     "metadata": {},
     "output_type": "execute_result"
    }
   ],
   "source": [
    "len(fit_3.history[\"accuracy\"])"
   ]
  },
  {
   "cell_type": "code",
   "execution_count": 45,
   "metadata": {},
   "outputs": [],
   "source": [
    "# fig, ax = plt.subplots(2, 2, figsize=(16, 8))\n",
    "\n",
    "# # PLOT 1\n",
    "# ax[0,0].plot(fit_1.history[\"loss\"], 'r', \n",
    "#          fit_2.history[\"loss\"], 'b',\n",
    "#          fit_3.history[\"loss\"], 'g',\n",
    "#          )\n",
    "# ax[0,0].set_title('model loss', fontweight = \"bold\")\n",
    "# ax[0,0].set_xlabel('Epochs')\n",
    "# ax[0,0].set_ylabel('Validation score')\n",
    "# ax[0,0].legend(['model_1', 'model_2', 'model_3'], loc='upper right')\n",
    "# ax[0,0].axhline(axh_ml, color='black', linestyle='--', linewidth=.5)\n",
    "\n",
    "\n",
    "# # PLOT 2\n",
    "# ax[0,1].plot(fit_1.history[\"val_loss\"], 'r', \n",
    "#          fit_2.history[\"val_loss\"], 'b',\n",
    "#          fit_3.history[\"val_loss\"], 'g',\n",
    "#          )\n",
    "# ax[0,1].set_title('model val_loss', fontweight = \"bold\")\n",
    "# ax[0,1].set_xlabel('Epochs')\n",
    "# ax[0,1].set_ylabel('Validation score')\n",
    "# ax[0,1].legend(['model_1', 'model_2', 'model_3'], loc='upper right')\n",
    "# ax[0,1].axhline(axh_mvl, color='black', linestyle='--', linewidth=.5)\n",
    "\n",
    "\n",
    "# # PLOT 3\n",
    "# ax[1,0].plot(fit_1.history[\"accuracy\"], 'r', \n",
    "#          fit_2.history[\"accuracy\"], 'b',\n",
    "#          fit_3.history[\"accuracy\"], 'g',\n",
    "#          )\n",
    "# ax[1,0].set_title('model accuracy', fontweight = \"bold\")\n",
    "# ax[1,0].set_xlabel('Epochs')\n",
    "# ax[1,0].set_ylabel('Validation score')\n",
    "# ax[1,0].legend(['model_1', 'model_2', 'model_3'], loc='lower right')\n",
    "# ax[1,0].axhline(axh_ma, color='black', linestyle='--', linewidth=.5)\n",
    "\n",
    "\n",
    "# # PLOT 4\n",
    "# ax[1,1].plot(fit_1.history[\"val_accuracy\"], 'r', \n",
    "#          fit_2.history[\"val_accuracy\"], 'b',\n",
    "#          fit_3.history[\"val_accuracy\"], 'g',\n",
    "#          )\n",
    "# ax[1,1].set_title('model val_accuracy', fontweight = \"bold\")\n",
    "# ax[1,1].set_xlabel('Epochs')\n",
    "# ax[1,1].set_ylabel('Validation score')\n",
    "# ax[1,1].legend(['model_1', 'model_2', 'model_3'], loc='lower right')\n",
    "# ax[1,1].axhline(axh_mva, color='black', linestyle='--', linewidth=.5)\n",
    "\n",
    "\n",
    "# fig.suptitle(\"Model performance comparison\")\n",
    "# plt.tight_layout()\n",
    "# plt.show()"
   ]
  },
  {
   "cell_type": "markdown",
   "metadata": {},
   "source": [
    "## Step 7b. Ensemble methods"
   ]
  },
  {
   "cell_type": "markdown",
   "metadata": {},
   "source": [
    "### Voting Ensemble"
   ]
  },
  {
   "cell_type": "code",
   "execution_count": 46,
   "metadata": {},
   "outputs": [
    {
     "name": "stdout",
     "output_type": "stream",
     "text": [
      "\u001b[1m14/14\u001b[0m \u001b[32m━━━━━━━━━━━━━━━━━━━━\u001b[0m\u001b[37m\u001b[0m \u001b[1m2s\u001b[0m 76ms/step\n"
     ]
    }
   ],
   "source": [
    "predictions = model_3.predict(test)"
   ]
  },
  {
   "cell_type": "code",
   "execution_count": 47,
   "metadata": {},
   "outputs": [],
   "source": [
    "# from scipy.stats import mode\n",
    "\n",
    "# # Collect predictions from your models\n",
    "# model1_preds = model_1.predict(test)\n",
    "# model2_preds = model_2.predict(test)\n",
    "# model3_preds = model_3.predict(test)\n",
    "\n",
    "# # Combine predictions using majority voting\n",
    "# ensemble_preds = mode([model1_preds, model2_preds, model3_preds], axis=0).mode"
   ]
  },
  {
   "cell_type": "code",
   "execution_count": 48,
   "metadata": {},
   "outputs": [],
   "source": [
    "# len(ensemble_preds)"
   ]
  },
  {
   "cell_type": "markdown",
   "metadata": {},
   "source": [
    "## Step 8. make prediction on the test set with the most accurate model"
   ]
  },
  {
   "cell_type": "markdown",
   "metadata": {},
   "source": [
    "Make predictions"
   ]
  },
  {
   "cell_type": "code",
   "execution_count": 49,
   "metadata": {},
   "outputs": [],
   "source": [
    "# predictions = model_2.predict(test)\n",
    "# predictions = ensemble_preds"
   ]
  },
  {
   "cell_type": "markdown",
   "metadata": {},
   "source": [
    "Round probabilities to either 0 or 1"
   ]
  },
  {
   "cell_type": "code",
   "execution_count": 50,
   "metadata": {},
   "outputs": [],
   "source": [
    "binary_predictions = (predictions > 0.5).astype(int)"
   ]
  },
  {
   "cell_type": "markdown",
   "metadata": {},
   "source": [
    "If your model outputs probabilities for both classes, you can get the class with the highest probability as the predicted class"
   ]
  },
  {
   "cell_type": "code",
   "execution_count": 51,
   "metadata": {},
   "outputs": [],
   "source": [
    "predicted_classes = np.argmax(predictions, axis=1)"
   ]
  },
  {
   "cell_type": "code",
   "execution_count": 52,
   "metadata": {},
   "outputs": [],
   "source": [
    "test_orig = pd.read_csv(\"./data/test.csv\")\n",
    "\n",
    "\n",
    "df_predictions = pd.DataFrame({\n",
    "    \"PassengerId\": test_orig[\"PassengerId\"],\n",
    "    \"Survived\": predicted_classes\n",
    "    })\n",
    "\n",
    "df_predictions.to_csv(\"./submission/submission.csv\", index=False)"
   ]
  },
  {
   "cell_type": "code",
   "execution_count": 55,
   "metadata": {},
   "outputs": [
    {
     "data": {
      "text/plain": [
       "Survived\n",
       "1    388\n",
       "0     30\n",
       "Name: count, dtype: int64"
      ]
     },
     "execution_count": 55,
     "metadata": {},
     "output_type": "execute_result"
    }
   ],
   "source": [
    "df_predictions[\"Survived\"].value_counts()"
   ]
  },
  {
   "cell_type": "code",
   "execution_count": 53,
   "metadata": {},
   "outputs": [
    {
     "data": {
      "text/plain": [
       "RangeIndex(start=0, stop=418, step=1)"
      ]
     },
     "execution_count": 53,
     "metadata": {},
     "output_type": "execute_result"
    }
   ],
   "source": [
    "test_orig.index"
   ]
  }
 ],
 "metadata": {
  "kernelspec": {
   "display_name": "Python 3",
   "language": "python",
   "name": "python3"
  },
  "language_info": {
   "codemirror_mode": {
    "name": "ipython",
    "version": 3
   },
   "file_extension": ".py",
   "mimetype": "text/x-python",
   "name": "python",
   "nbconvert_exporter": "python",
   "pygments_lexer": "ipython3",
   "version": "3.11.2"
  }
 },
 "nbformat": 4,
 "nbformat_minor": 2
}
