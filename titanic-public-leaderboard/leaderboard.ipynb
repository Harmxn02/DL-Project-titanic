{
 "cells": [
  {
   "cell_type": "markdown",
   "metadata": {},
   "source": [
    "## Step 0. configurations"
   ]
  },
  {
   "cell_type": "code",
   "execution_count": 15,
   "metadata": {},
   "outputs": [],
   "source": [
    "import warnings\n",
    "warnings.filterwarnings(\"ignore\")"
   ]
  },
  {
   "cell_type": "markdown",
   "metadata": {},
   "source": [
    "## Step 1. reading data and importing libraries"
   ]
  },
  {
   "cell_type": "code",
   "execution_count": 16,
   "metadata": {},
   "outputs": [],
   "source": [
    "import pandas as pd\n",
    "import numpy as np\n",
    "\n",
    "import matplotlib.pyplot as plt\n",
    "import seaborn as sns\n",
    "sns.set(style=\"darkgrid\")"
   ]
  },
  {
   "cell_type": "code",
   "execution_count": 17,
   "metadata": {},
   "outputs": [
    {
     "data": {
      "text/html": [
       "<div>\n",
       "<style scoped>\n",
       "    .dataframe tbody tr th:only-of-type {\n",
       "        vertical-align: middle;\n",
       "    }\n",
       "\n",
       "    .dataframe tbody tr th {\n",
       "        vertical-align: top;\n",
       "    }\n",
       "\n",
       "    .dataframe thead th {\n",
       "        text-align: right;\n",
       "    }\n",
       "</style>\n",
       "<table border=\"1\" class=\"dataframe\">\n",
       "  <thead>\n",
       "    <tr style=\"text-align: right;\">\n",
       "      <th></th>\n",
       "      <th>Rank</th>\n",
       "      <th>TeamId</th>\n",
       "      <th>TeamName</th>\n",
       "      <th>LastSubmissionDate</th>\n",
       "      <th>Score</th>\n",
       "      <th>SubmissionCount</th>\n",
       "      <th>TeamMemberUserNames</th>\n",
       "    </tr>\n",
       "  </thead>\n",
       "  <tbody>\n",
       "    <tr>\n",
       "      <th>0</th>\n",
       "      <td>1</td>\n",
       "      <td>11652059</td>\n",
       "      <td>YinanJuliaZhu</td>\n",
       "      <td>2024-02-18 00:22:36</td>\n",
       "      <td>1.0</td>\n",
       "      <td>3</td>\n",
       "      <td>yinanjuliazhu</td>\n",
       "    </tr>\n",
       "    <tr>\n",
       "      <th>1</th>\n",
       "      <td>2</td>\n",
       "      <td>11652100</td>\n",
       "      <td>CrhnbP</td>\n",
       "      <td>2024-02-18 00:58:18</td>\n",
       "      <td>1.0</td>\n",
       "      <td>3</td>\n",
       "      <td>crhnbp</td>\n",
       "    </tr>\n",
       "    <tr>\n",
       "      <th>2</th>\n",
       "      <td>3</td>\n",
       "      <td>11652664</td>\n",
       "      <td>Sakib Hasan #2</td>\n",
       "      <td>2024-02-18 07:19:27</td>\n",
       "      <td>1.0</td>\n",
       "      <td>1</td>\n",
       "      <td>sakibhrana</td>\n",
       "    </tr>\n",
       "    <tr>\n",
       "      <th>3</th>\n",
       "      <td>4</td>\n",
       "      <td>11652819</td>\n",
       "      <td>Jiao Huang</td>\n",
       "      <td>2024-02-18 08:36:18</td>\n",
       "      <td>1.0</td>\n",
       "      <td>3</td>\n",
       "      <td>jiaohuang</td>\n",
       "    </tr>\n",
       "    <tr>\n",
       "      <th>4</th>\n",
       "      <td>5</td>\n",
       "      <td>11654369</td>\n",
       "      <td>Jaspreet Kaur Patpatia</td>\n",
       "      <td>2024-02-18 17:49:02</td>\n",
       "      <td>1.0</td>\n",
       "      <td>3</td>\n",
       "      <td>jaspreetkaurpatpatia</td>\n",
       "    </tr>\n",
       "  </tbody>\n",
       "</table>\n",
       "</div>"
      ],
      "text/plain": [
       "   Rank    TeamId                TeamName   LastSubmissionDate  Score  \\\n",
       "0     1  11652059           YinanJuliaZhu  2024-02-18 00:22:36    1.0   \n",
       "1     2  11652100                  CrhnbP  2024-02-18 00:58:18    1.0   \n",
       "2     3  11652664          Sakib Hasan #2  2024-02-18 07:19:27    1.0   \n",
       "3     4  11652819              Jiao Huang  2024-02-18 08:36:18    1.0   \n",
       "4     5  11654369  Jaspreet Kaur Patpatia  2024-02-18 17:49:02    1.0   \n",
       "\n",
       "   SubmissionCount   TeamMemberUserNames  \n",
       "0                3         yinanjuliazhu  \n",
       "1                3                crhnbp  \n",
       "2                1            sakibhrana  \n",
       "3                3             jiaohuang  \n",
       "4                3  jaspreetkaurpatpatia  "
      ]
     },
     "execution_count": 17,
     "metadata": {},
     "output_type": "execute_result"
    }
   ],
   "source": [
    "df = pd.read_csv(\"./titanic-publicleaderboard-2024-04-17T17_58_43.csv\")\n",
    "df.head()"
   ]
  },
  {
   "cell_type": "markdown",
   "metadata": {},
   "source": [
    "## Step 2. understanding the data"
   ]
  },
  {
   "cell_type": "code",
   "execution_count": 18,
   "metadata": {},
   "outputs": [
    {
     "data": {
      "text/plain": [
       "(15611, 7)"
      ]
     },
     "execution_count": 18,
     "metadata": {},
     "output_type": "execute_result"
    }
   ],
   "source": [
    "df.shape"
   ]
  },
  {
   "cell_type": "code",
   "execution_count": 19,
   "metadata": {},
   "outputs": [
    {
     "data": {
      "text/plain": [
       "Index(['Rank', 'TeamId', 'TeamName', 'LastSubmissionDate', 'Score',\n",
       "       'SubmissionCount', 'TeamMemberUserNames'],\n",
       "      dtype='object')"
      ]
     },
     "execution_count": 19,
     "metadata": {},
     "output_type": "execute_result"
    }
   ],
   "source": [
    "df.columns"
   ]
  },
  {
   "cell_type": "code",
   "execution_count": 20,
   "metadata": {},
   "outputs": [
    {
     "data": {
      "text/plain": [
       "RangeIndex(start=0, stop=15611, step=1)"
      ]
     },
     "execution_count": 20,
     "metadata": {},
     "output_type": "execute_result"
    }
   ],
   "source": [
    "df.index"
   ]
  },
  {
   "cell_type": "code",
   "execution_count": 21,
   "metadata": {},
   "outputs": [
    {
     "name": "stdout",
     "output_type": "stream",
     "text": [
      "<class 'pandas.core.frame.DataFrame'>\n",
      "RangeIndex: 15611 entries, 0 to 15610\n",
      "Data columns (total 7 columns):\n",
      " #   Column               Non-Null Count  Dtype  \n",
      "---  ------               --------------  -----  \n",
      " 0   Rank                 15611 non-null  int64  \n",
      " 1   TeamId               15611 non-null  int64  \n",
      " 2   TeamName             15611 non-null  object \n",
      " 3   LastSubmissionDate   15611 non-null  object \n",
      " 4   Score                15611 non-null  float64\n",
      " 5   SubmissionCount      15611 non-null  int64  \n",
      " 6   TeamMemberUserNames  15611 non-null  object \n",
      "dtypes: float64(1), int64(3), object(3)\n",
      "memory usage: 853.9+ KB\n"
     ]
    }
   ],
   "source": [
    "df.info()"
   ]
  },
  {
   "cell_type": "code",
   "execution_count": 22,
   "metadata": {},
   "outputs": [
    {
     "data": {
      "text/html": [
       "<div>\n",
       "<style scoped>\n",
       "    .dataframe tbody tr th:only-of-type {\n",
       "        vertical-align: middle;\n",
       "    }\n",
       "\n",
       "    .dataframe tbody tr th {\n",
       "        vertical-align: top;\n",
       "    }\n",
       "\n",
       "    .dataframe thead th {\n",
       "        text-align: right;\n",
       "    }\n",
       "</style>\n",
       "<table border=\"1\" class=\"dataframe\">\n",
       "  <thead>\n",
       "    <tr style=\"text-align: right;\">\n",
       "      <th></th>\n",
       "      <th>Rank</th>\n",
       "      <th>TeamId</th>\n",
       "      <th>Score</th>\n",
       "      <th>SubmissionCount</th>\n",
       "    </tr>\n",
       "  </thead>\n",
       "  <tbody>\n",
       "    <tr>\n",
       "      <th>count</th>\n",
       "      <td>15611.000000</td>\n",
       "      <td>1.561100e+04</td>\n",
       "      <td>15611.000000</td>\n",
       "      <td>15611.000000</td>\n",
       "    </tr>\n",
       "    <tr>\n",
       "      <th>mean</th>\n",
       "      <td>7805.000000</td>\n",
       "      <td>1.135415e+07</td>\n",
       "      <td>0.760524</td>\n",
       "      <td>3.775287</td>\n",
       "    </tr>\n",
       "    <tr>\n",
       "      <th>std</th>\n",
       "      <td>4506.651861</td>\n",
       "      <td>1.682878e+06</td>\n",
       "      <td>0.084458</td>\n",
       "      <td>6.784916</td>\n",
       "    </tr>\n",
       "    <tr>\n",
       "      <th>min</th>\n",
       "      <td>0.000000</td>\n",
       "      <td>2.489700e+04</td>\n",
       "      <td>0.000000</td>\n",
       "      <td>1.000000</td>\n",
       "    </tr>\n",
       "    <tr>\n",
       "      <th>25%</th>\n",
       "      <td>3902.500000</td>\n",
       "      <td>1.167940e+07</td>\n",
       "      <td>0.765550</td>\n",
       "      <td>1.000000</td>\n",
       "    </tr>\n",
       "    <tr>\n",
       "      <th>50%</th>\n",
       "      <td>7805.000000</td>\n",
       "      <td>1.177279e+07</td>\n",
       "      <td>0.775110</td>\n",
       "      <td>1.000000</td>\n",
       "    </tr>\n",
       "    <tr>\n",
       "      <th>75%</th>\n",
       "      <td>11707.500000</td>\n",
       "      <td>1.185418e+07</td>\n",
       "      <td>0.777510</td>\n",
       "      <td>4.000000</td>\n",
       "    </tr>\n",
       "    <tr>\n",
       "      <th>max</th>\n",
       "      <td>15610.000000</td>\n",
       "      <td>1.196613e+07</td>\n",
       "      <td>1.000000</td>\n",
       "      <td>218.000000</td>\n",
       "    </tr>\n",
       "  </tbody>\n",
       "</table>\n",
       "</div>"
      ],
      "text/plain": [
       "               Rank        TeamId         Score  SubmissionCount\n",
       "count  15611.000000  1.561100e+04  15611.000000     15611.000000\n",
       "mean    7805.000000  1.135415e+07      0.760524         3.775287\n",
       "std     4506.651861  1.682878e+06      0.084458         6.784916\n",
       "min        0.000000  2.489700e+04      0.000000         1.000000\n",
       "25%     3902.500000  1.167940e+07      0.765550         1.000000\n",
       "50%     7805.000000  1.177279e+07      0.775110         1.000000\n",
       "75%    11707.500000  1.185418e+07      0.777510         4.000000\n",
       "max    15610.000000  1.196613e+07      1.000000       218.000000"
      ]
     },
     "execution_count": 22,
     "metadata": {},
     "output_type": "execute_result"
    }
   ],
   "source": [
    "df.describe()"
   ]
  },
  {
   "cell_type": "markdown",
   "metadata": {},
   "source": [
    "## Step 3. Visualizing"
   ]
  },
  {
   "cell_type": "code",
   "execution_count": 23,
   "metadata": {},
   "outputs": [
    {
     "data": {
      "text/plain": [
       "0.76"
      ]
     },
     "execution_count": 23,
     "metadata": {},
     "output_type": "execute_result"
    }
   ],
   "source": [
    "mean_score = round(df[\"Score\"].mean(), 2)\n",
    "mean_score"
   ]
  },
  {
   "cell_type": "markdown",
   "metadata": {},
   "source": [
    "### Distibution of `Score`"
   ]
  },
  {
   "cell_type": "code",
   "execution_count": 45,
   "metadata": {},
   "outputs": [
    {
     "data": {
      "image/png": "[encoded data removed]",
      "text/plain": [
       "<Figure size 800x500 with 1 Axes>"
      ]
     },
     "metadata": {},
     "output_type": "display_data"
    }
   ],
   "source": [
    "column = \"Score\"\n",
    "\n",
    "plt.figure(figsize=(8, 5))\n",
    "sns.histplot(df[column], kde=True, bins=50, label=column)\n",
    "plt.title(f\"Distribution of {column}\", fontweight=\"bold\")\n",
    "plt.legend()\n",
    "\n",
    "plt.tight_layout()\n",
    "plt.show()"
   ]
  },
  {
   "cell_type": "markdown",
   "metadata": {},
   "source": [
    "### Distibution of `Score` without outliers\n",
    "\n",
    "- Scores of 0 are mistakes\n",
    "- Scores of 1 are cheating :) "
   ]
  },
  {
   "cell_type": "code",
   "execution_count": 67,
   "metadata": {},
   "outputs": [],
   "source": [
    "def rem_outliers(data):\n",
    "    data = data[data[\"Score\"] < 1]\n",
    "    data = data[data[\"Score\"] > 0]\n",
    "\n",
    "    # data = data[data[\"SubmissionCount\"] >= 3]\n",
    "\n",
    "    return data\n",
    "\n",
    "\n",
    "\n",
    "df_no_outliers = rem_outliers(df)"
   ]
  },
  {
   "cell_type": "code",
   "execution_count": 68,
   "metadata": {},
   "outputs": [
    {
     "data": {
      "text/plain": [
       "(15247, 7)"
      ]
     },
     "execution_count": 68,
     "metadata": {},
     "output_type": "execute_result"
    }
   ],
   "source": [
    "df_no_outliers.shape"
   ]
  },
  {
   "cell_type": "code",
   "execution_count": 69,
   "metadata": {},
   "outputs": [
    {
     "data": {
      "image/png": "[encoded data removed]",
      "text/plain": [
       "<Figure size 800x500 with 1 Axes>"
      ]
     },
     "metadata": {},
     "output_type": "display_data"
    }
   ],
   "source": [
    "column = \"Score\"\n",
    "\n",
    "plt.figure(figsize=(8, 5))\n",
    "sns.histplot(df_no_outliers[column], kde=True, bins=50, label=column)\n",
    "plt.title(f\"Distribution of {column}, outliers removed\", fontweight=\"bold\")\n",
    "plt.legend()\n",
    "\n",
    "plt.tight_layout()\n",
    "plt.show()"
   ]
  }
 ],
 "metadata": {
  "kernelspec": {
   "display_name": "Python 3",
   "language": "python",
   "name": "python3"
  },
  "language_info": {
   "codemirror_mode": {
    "name": "ipython",
    "version": 3
   },
   "file_extension": ".py",
   "mimetype": "text/x-python",
   "name": "python",
   "nbconvert_exporter": "python",
   "pygments_lexer": "ipython3",
   "version": "3.9.9"
  }
 },
 "nbformat": 4,
 "nbformat_minor": 2
}
